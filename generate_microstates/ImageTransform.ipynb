{
 "cells": [
  {
   "metadata": {
    "ExecuteTime": {
     "end_time": "2024-10-10T02:51:11.021868Z",
     "start_time": "2024-10-10T02:51:11.014073Z"
    }
   },
   "cell_type": "code",
   "source": [
    "import os\n",
    "\n",
    "def get_all_filenames(directory, read_mode=\"eeg\"):\n",
    "    # Ensure the directory path is correct\n",
    "    directory_path = os.path.abspath(directory)\n",
    "\n",
    "    # List all entries in the directory\n",
    "    filenames = os.listdir(directory_path)\n",
    "\n",
    "    # Optional: Get full paths\n",
    "    if read_mode == \"eeg\":\n",
    "        full_paths = [os.path.join(directory_path, filename) for filename in filenames if\n",
    "                      \"TXT\" not in filename and \"h\" not in filename]\n",
    "\n",
    "    else:\n",
    "        full_paths = [os.path.join(directory_path, filename) for filename in filenames]\n",
    "\n",
    "    return full_paths\n"
   ],
   "id": "d1b2d0de81a86591",
   "outputs": [],
   "execution_count": 1
  },
  {
   "cell_type": "code",
   "id": "initial_id",
   "metadata": {
    "collapsed": true,
    "ExecuteTime": {
     "end_time": "2024-10-10T02:55:09.886327Z",
     "start_time": "2024-10-10T02:54:45.134232Z"
    }
   },
   "source": [
    "from PIL import Image\n",
    "\n",
    "\n",
    "def generate_image(filename: str):\n",
    "\n",
    "    image = Image.open(filename)\n",
    "    img = Image.new('RGBA', (900, 840))\n",
    "\n",
    "    for j in range(10):\n",
    "        for i in range(3):\n",
    "            crop_area = (900 * (i + j), 20, 900 * ((i + j) + 1), 300)\n",
    "            cropped_image = image.crop(crop_area)\n",
    "            img.paste(cropped_image, (0, 280 * i))\n",
    "            \n",
    "        \n",
    "        if j > 7:\n",
    "            resized_img = img.resize((224, 224))\n",
    "            resized_img.save(rf\"D:\\Codes\\NEWTCC\\generate_microstates\\vit_images\\test\\sch/{filename.split(\"\\\\\")[-1]} - {j} RGBA.png\")\n",
    "        \n",
    "        else:\n",
    "            resized_img = img.resize((224, 224))\n",
    "            resized_img.save(rf\"D:\\Codes\\NEWTCC\\generate_microstates\\vit_images\\train\\sch/{filename.split(\"\\\\\")[-1]} - {j} RGBA.png\")\n",
    "\n",
    "\n",
    "files = get_all_filenames(r\"D:\\Codes\\NEWTCC\\generate_microstates\\normalized_data\\sch\", \"img\")\n",
    "\n",
    "\n",
    "for name in files:\n",
    "    generate_image(name)\n",
    "    "
   ],
   "outputs": [],
   "execution_count": 7
  },
  {
   "metadata": {},
   "cell_type": "code",
   "outputs": [],
   "execution_count": null,
   "source": "",
   "id": "17e4a2f501de9d1f"
  }
 ],
 "metadata": {
  "kernelspec": {
   "display_name": "Python 3",
   "language": "python",
   "name": "python3"
  },
  "language_info": {
   "codemirror_mode": {
    "name": "ipython",
    "version": 2
   },
   "file_extension": ".py",
   "mimetype": "text/x-python",
   "name": "python",
   "nbconvert_exporter": "python",
   "pygments_lexer": "ipython2",
   "version": "2.7.6"
  }
 },
 "nbformat": 4,
 "nbformat_minor": 5
}
